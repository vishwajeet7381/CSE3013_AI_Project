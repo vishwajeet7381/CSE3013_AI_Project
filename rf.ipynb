{
 "cells": [
  {
   "cell_type": "code",
   "execution_count": 1,
   "metadata": {},
   "outputs": [],
   "source": [
    "# Libraries for easy visualization and manipulation of data\n",
    "import numpy as np\n",
    "import pandas as pd\n",
    "\n",
    "# Function for the random forest classification\n",
    "from sklearn.ensemble import RandomForestClassifier\n",
    "\n",
    "# Functions for splitting the data training & testing datasets & for checking the accuracy of our predictions\n",
    "from sklearn.model_selection import train_test_split\n",
    "from sklearn.metrics import accuracy_score\n",
    "\n",
    "# Library to plot the confusion matrix for our predictions\n",
    "import matplotlib.pyplot as plt"
   ]
  },
  {
   "cell_type": "code",
   "execution_count": 2,
   "metadata": {},
   "outputs": [],
   "source": [
    "# Function to convert the list consisting of the actual and predicted labels into a proper matrix format\n",
    "def matrix(y_test, pred):\n",
    "    \n",
    "    # Combining the lists consisting the actual & predicted class labels \n",
    "    val = pd.concat([y_test, pred], axis = 1)\n",
    "    val.columns = ['Actual', 'Predicted']\n",
    "    \n",
    "    # Counting the values of each element of the matrix\n",
    "    grp = val.groupby(['Actual', 'Predicted'])\n",
    "    count = grp.apply(lambda x: len(x))\n",
    "\n",
    "    indexes = count.index.to_frame(index = False)\n",
    "\n",
    "    count.index = np.arange(count.shape[0])\n",
    "\n",
    "    count = pd.concat([indexes, count], axis = 1)\n",
    "    count.columns = ['Actual', 'Predicted', 'Count']\n",
    "\n",
    "    # Coverting the dataframe into a matrix\n",
    "    mat = count.pivot(index = 'Actual', columns = 'Predicted', values = 'Count')\n",
    "    mat.fillna(0, inplace = True)\n",
    "    \n",
    "    return mat"
   ]
  },
  {
   "cell_type": "code",
   "execution_count": 3,
   "metadata": {},
   "outputs": [],
   "source": [
    "# Function to plot the confusion matrix\n",
    "def show_plot(mat):\n",
    "    \n",
    "    # Designing the visual of the confusion matrix\n",
    "    fig, ax = plt.subplots(figsize = (7, 7))\n",
    "    ax.matshow(mat, cmap = plt.cm.Greens, alpha = 0.3)\n",
    "\n",
    "    for i in range(mat.shape[0]):\n",
    "        for j in range(mat.shape[1]):\n",
    "            ax.text(x = j, \n",
    "                    y = i, \n",
    "                    s = int(mat.values[i, j]), \n",
    "                    va = 'center', \n",
    "                    ha = 'center', \n",
    "                    size = 'xx-large')\n",
    "\n",
    "    ax.xaxis.set_ticks(np.arange(mat.shape[1])) \n",
    "    ax.yaxis.set_ticks(np.arange(mat.shape[0]))\n",
    "\n",
    "    # Assigning the labels & the title for the matrix\n",
    "    ax.xaxis.set_ticklabels([str(int(x)) for x in mat.columns]) \n",
    "    ax.yaxis.set_ticklabels([str(int(x)) for x in mat.index])\n",
    "\n",
    "    plt.xlabel('Predictions', fontsize = 18)\n",
    "    plt.ylabel('Actuals', fontsize = 18)\n",
    "    \n",
    "    plt.title('Confusion Matrix', fontsize = 18)\n",
    "\n",
    "    # Putting the matrix on the output screen\n",
    "    plt.show()"
   ]
  },
  {
   "cell_type": "code",
   "execution_count": 4,
   "metadata": {},
   "outputs": [],
   "source": [
    "# Reading the data from a csv file & converting it to a dataframe\n",
    "df = pd.read_csv('covtype.csv', skiprows = lambda x: x % 20 != 0)\n",
    "cols_lst = df.columns\n",
    "\n",
    "# Seperating the features from the class labels\n",
    "x = df[cols_lst[0:14]]\n",
    "y = df[cols_lst[-1]]\n",
    "\n",
    "# Normalizing the data so that no one feature has more impact on the calculations than the others\n",
    "minmaxscale = lambda x: (x - x.min()) / (x.max() - x.min())\n",
    "x_normalized = x.apply(minmaxscale)\n",
    "\n",
    "# Spliting the data into traning & testing datasets  \n",
    "x_train, x_test, y_train, y_test = train_test_split(x_normalized, y, test_size = 0.3, random_state = 5)"
   ]
  },
  {
   "cell_type": "code",
   "execution_count": 5,
   "metadata": {},
   "outputs": [
    {
     "name": "stdout",
     "output_type": "stream",
     "text": [
      "Accuracy: 0.8201950659781985\n"
     ]
    },
    {
     "data": {
      "image/png": "[encoded data removed]",
      "text/plain": [
       "<Figure size 504x504 with 1 Axes>"
      ]
     },
     "metadata": {
      "needs_background": "light"
     },
     "output_type": "display_data"
    }
   ],
   "source": [
    "# Calling the function for the rf classifier\n",
    "rf = RandomForestClassifier(n_estimators = 50, criterion = 'entropy', max_depth = 20)\n",
    "rf.fit(x_train, y_train)\n",
    "\n",
    "# Predicting the class labels for the testing data using the rf classifier\n",
    "pred = rf.predict(x_test)\n",
    "pred = pd.Series(pred)\n",
    "\n",
    "# Checking the accuracy of our predictions\n",
    "print('Accuracy:', accuracy_score(y_test, pred))\n",
    "\n",
    "# Plotting the confusion matrix for the predicted class labels\n",
    "mat = matrix(y_test, pred)\n",
    "show_plot(mat)"
   ]
  },
  {
   "cell_type": "code",
   "execution_count": null,
   "metadata": {},
   "outputs": [],
   "source": []
  }
 ],
 "metadata": {
  "kernelspec": {
   "display_name": "Python 3",
   "language": "python",
   "name": "python3"
  },
  "language_info": {
   "codemirror_mode": {
    "name": "ipython",
    "version": 3
   },
   "file_extension": ".py",
   "mimetype": "text/x-python",
   "name": "python",
   "nbconvert_exporter": "python",
   "pygments_lexer": "ipython3",
   "version": "3.8.3"
  }
 },
 "nbformat": 4,
 "nbformat_minor": 4
}
